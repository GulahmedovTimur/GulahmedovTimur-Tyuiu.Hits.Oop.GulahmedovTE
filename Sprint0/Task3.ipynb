{
 "cells": [
  {
   "cell_type": "markdown",
   "metadata": {},
   "source": [
    "<h1 style=\"color:DodgerBlue\">Индивидальный проект</h1>"
   ]
  },
  {
   "cell_type": "markdown",
   "metadata": {},
   "source": [
    "<h2 style=\"color:DodgerBlue\">Название проекта: Создание классов фактур</h2>\n",
    "\n",
    "----\n",
    "\n",
    "### Вариант задания 10\n"
   ]
  },
  {
   "cell_type": "markdown",
   "metadata": {},
   "source": [
    "<h2 style=\"color:DodgerBlue\">Описание проекта:</h2>\n",
    "\n",
    "----\n",
    "\n",
    "Описание задачи:\n",
    "Создать базовый класс Invoice в C#, который будет представлять информацию о\n",
    "фактурах за поставленные товары или оказанные услуги. На основе этого класса\n",
    "разработать 2-3 производных класса, демонстрирующих принципы наследования и\n",
    "полиморфизма. В каждом из классов должны быть реализованы новые атрибуты и\n",
    "методы, а также переопределены некоторые методы базового класса для\n",
    "демонстрации полиморфизма.\n",
    "\n",
    "Требования к базовому классу Invoice:\n",
    "\n",
    "• Атрибуты: Номер фактуры (InvoiceNumber), Дата выдачи (IssueDate), Общая\n",
    "сумма (TotalAmount).\n",
    "• Методы:\n",
    "CalculateTotal(): метод для расчета общей суммы по фактуре.\n",
    "AddLine(LineItem lineItem): метод для добавления позиции в фактуру.\n",
    "RemoveLine(LineItem lineItem): метод для удаления позиции из\n",
    "фактуры.\n",
    "Требования к производным классам:\n",
    "1. ТоварнаяФактура (GoodsInvoice): Должна содержать дополнительные\n",
    "атрибуты, такие как Дата поставки (SupplyDate). Метод AddLine() должен\n",
    "быть переопределен для добавления информации о дате поставки товара\n",
    "при добавлении позиции.\n",
    "2. УслуговаяФактура (ServiceInvoice): Должна содержать дополнительные\n",
    "атрибуты, такие как Дата оказания услуги (ServiceDate).\n",
    "Метод RemoveLine() должен быть переопределен для добавления\n",
    "информации о причине аннулирования услуги при удалении позиции.\n",
    "3. КомбинированнаяФактура (CombinedInvoice) (если требуется третий класс):\n",
    "Должна содержать дополнительные атрибуты, такие как Наличие возврата\n",
    "(ReturnAllowed). Метод CalculateTotal() должен быть переопределен для\n",
    "учета возможного возврата товара или услуги при расчете общей суммы.\n"
   ]
  },
  {
   "cell_type": "markdown",
   "metadata": {},
   "source": [
    "<h2 style=\"color:DodgerBlue\">Реализация:</h2>\n",
    "\n",
    "----"
   ]
  },
  {
   "cell_type": "code",
   "execution_count": 8,
   "metadata": {
    "dotnet_interactive": {
     "language": "csharp"
    },
    "polyglot_notebook": {
     "kernelName": "csharp"
    }
   },
   "outputs": [
    {
     "name": "stdout",
     "output_type": "stream",
     "text": [
      "Товарная фактура\n",
      "Добавлен товар: Ноутбук\n",
      "Дата поставки товара: 9/13/2025 10:04:56 PM\n",
      "Общая сумма фактуры: 50000 руб.\n",
      "\n",
      "Услуговая фактура\n",
      "Добавлена позиция: Консультация\n",
      "Общая сумма фактуры: 4000 руб.\n",
      "Услуга аннулирована: Консультация\n",
      "Причина: Клиент отменил услугу\n",
      "Общая сумма фактуры: 0 руб.\n"
     ]
    }
   ],
   "source": [
    "using System;\n",
    "using System.Collections.Generic;\n",
    "\n",
    "// одна позиция в фактуре\n",
    "public class LineItem\n",
    "{\n",
    "    public string Description { get; set; }\n",
    "    public decimal Quantity { get; set; }\n",
    "    public decimal UnitPrice { get; set; }\n",
    "\n",
    "    public decimal TotalPrice\n",
    "    {\n",
    "        get { return Quantity * UnitPrice; }\n",
    "    }\n",
    "}\n",
    "\n",
    "// базовый класс\n",
    "public class Invoice\n",
    "{\n",
    "    public string InvoiceNumber { get; set; }\n",
    "    public DateTime IssueDate { get; set; }\n",
    "    public decimal TotalAmount { get; protected set; }\n",
    "\n",
    "    protected List<LineItem> LineItems = new List<LineItem>();\n",
    "\n",
    "    // расчет общей суммы\n",
    "    public virtual void CalculateTotal()\n",
    "    {\n",
    "        TotalAmount = 0;\n",
    "        foreach (var item in LineItems)\n",
    "        {\n",
    "            TotalAmount += item.TotalPrice;\n",
    "        }\n",
    "        Console.WriteLine($\"Общая сумма фактуры: {TotalAmount} руб.\");\n",
    "    }\n",
    "\n",
    "    // добавление позиции в фактуру\n",
    "    public virtual void AddLine(LineItem lineItem)\n",
    "    {\n",
    "        LineItems.Add(lineItem);\n",
    "        Console.WriteLine($\"Добавлена позиция: {lineItem.Description}\");\n",
    "        CalculateTotal();\n",
    "    }\n",
    "\n",
    "    // удаление позиции из фактуры\n",
    "    public virtual void RemoveLine(LineItem lineItem)\n",
    "    {\n",
    "        LineItems.Remove(lineItem);\n",
    "        Console.WriteLine($\"Удалена позиция: {lineItem.Description}\");\n",
    "        CalculateTotal();\n",
    "    }\n",
    "}\n",
    "\n",
    "// товарная фактура\n",
    "public class GoodsInvoice : Invoice\n",
    "{\n",
    "    public DateTime SupplyDate { get; set; }\n",
    "\n",
    "    public override void AddLine(LineItem lineItem)\n",
    "    {\n",
    "        LineItems.Add(lineItem);\n",
    "        Console.WriteLine($\"Добавлен товар: {lineItem.Description}\");\n",
    "        Console.WriteLine($\"Дата поставки товара: {SupplyDate}\");\n",
    "        CalculateTotal();\n",
    "    }\n",
    "}\n",
    "\n",
    "// услуговая фактура\n",
    "public class ServiceInvoice : Invoice\n",
    "{\n",
    "    public DateTime ServiceDate { get; set; }\n",
    "\n",
    "    // удаление позиции с причиной\n",
    "    public void RemoveLine(LineItem lineItem, string reason)\n",
    "    {\n",
    "        LineItems.Remove(lineItem);\n",
    "        Console.WriteLine($\"Услуга аннулирована: {lineItem.Description}\");\n",
    "        Console.WriteLine($\"Причина: {reason}\");\n",
    "        CalculateTotal();\n",
    "    }\n",
    "}\n",
    "\n",
    "Console.WriteLine(\"Товарная фактура\");\n",
    "var goods = new GoodsInvoice\n",
    "{\n",
    "    InvoiceNumber = \"ТВ-001\",\n",
    "    IssueDate = DateTime.Now,\n",
    "    SupplyDate = DateTime.Now.AddDays(7)\n",
    "};\n",
    "goods.AddLine(new LineItem { Description = \"Ноутбук\", Quantity = 1, UnitPrice = 50000 });\n",
    "\n",
    "Console.WriteLine(\"\\nУслуговая фактура\");\n",
    "var service = new ServiceInvoice\n",
    "{\n",
    "    InvoiceNumber = \"УС-001\",\n",
    "    IssueDate = DateTime.Now,\n",
    "    ServiceDate = DateTime.Now.AddDays(2)\n",
    "};\n",
    "var consult = new LineItem { Description = \"Консультация\", Quantity = 2, UnitPrice = 2000 };\n",
    "service.AddLine(consult);\n",
    "service.RemoveLine(consult, \"Клиент отменил услугу\");"
   ]
  }
 ],
 "metadata": {
  "kernelspec": {
   "display_name": ".NET (C#)",
   "language": "C#",
   "name": ".net-csharp"
  },
  "polyglot_notebook": {
   "kernelInfo": {
    "defaultKernelName": "csharp",
    "items": [
     {
      "aliases": [],
      "languageName": "csharp",
      "name": "csharp"
     }
    ]
   }
  }
 },
 "nbformat": 4,
 "nbformat_minor": 2
}
