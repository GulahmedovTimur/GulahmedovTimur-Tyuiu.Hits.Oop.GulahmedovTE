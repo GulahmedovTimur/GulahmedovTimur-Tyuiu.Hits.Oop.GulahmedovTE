{
 "cells": [
  {
   "cell_type": "markdown",
   "metadata": {},
   "source": [
    "<h1 style=\"color:DodgerBlue\">Индивидальный проект</h1>"
   ]
  },
  {
   "cell_type": "markdown",
   "metadata": {},
   "source": [
    "<h2 style=\"color:DodgerBlue\">Название проекта:</h2>\n",
    "\n",
    "----\n",
    "\n",
    "### Вариант задания \n"
   ]
  },
  {
   "cell_type": "markdown",
   "metadata": {},
   "source": [
    "<h2 style=\"color:DodgerBlue\">Описание проекта:</h2>\n",
    "\n",
    "----\n",
    "\n",
    "[ваш текст]\n",
    "\n",
    "#### Дополнительное задание\n",
    "Добавьте к сущестующим классам конструктора классов с использованием гетторов и сетторов и реализуйте взаимодействие объектов между собой"
   ]
  },
  {
   "cell_type": "markdown",
   "metadata": {},
   "source": [
    "<h2 style=\"color:DodgerBlue\">Реализация:</h2>\n",
    "\n",
    "----"
   ]
  },
  {
   "cell_type": "code",
   "execution_count": 1,
   "metadata": {
    "dotnet_interactive": {
     "language": "csharp"
    },
    "polyglot_notebook": {
     "kernelName": "csharp"
    }
   },
   "outputs": [
    {
     "name": "stdout",
     "output_type": "stream",
     "text": [
      "Товарная фактура\n",
      "Добавлен товар: Ноутбук\n",
      "Дата поставки товара: 9/27/2025 11:22:26 PM\n",
      "Общая сумма фактуры: 50000 руб.\n",
      "\n",
      "Услуговая фактура\n",
      "Добавлена позиция: Консультация\n",
      "Общая сумма фактуры: 4000 руб.\n",
      "Услуга аннулирована: Консультация\n",
      "Причина: Клиент отменил услугу\n",
      "Общая сумма фактуры: 0 руб.\n"
     ]
    }
   ],
   "source": [
    "using System;\n",
    "using System.Collections.Generic;\n",
    "\n",
    "// одна позиция в фактуре\n",
    "public class LineItem\n",
    "{\n",
    "    public string Description { get; set; }\n",
    "    public decimal Quantity { get; set; }\n",
    "    public decimal UnitPrice { get; set; }\n",
    "\n",
    "    public LineItem(string description, decimal quantity, decimal unitPrice)\n",
    "    {\n",
    "        Description = description;\n",
    "        Quantity = quantity;\n",
    "        UnitPrice = unitPrice;\n",
    "    }\n",
    "\n",
    "    public decimal TotalPrice\n",
    "    {\n",
    "        get { return Quantity * UnitPrice; }\n",
    "    }\n",
    "}\n",
    "\n",
    "// базовый класс\n",
    "public class Invoice\n",
    "{\n",
    "    public string InvoiceNumber { get; set; }\n",
    "    public DateTime IssueDate { get; set; }\n",
    "    public decimal TotalAmount { get; protected set; }\n",
    "\n",
    "    protected List<LineItem> LineItems = new List<LineItem>();\n",
    "\n",
    "    public Invoice(string invoiceNumber, DateTime issueDate)\n",
    "    {\n",
    "        InvoiceNumber = invoiceNumber;\n",
    "        IssueDate = issueDate;\n",
    "    }\n",
    "\n",
    "    // расчет общей суммы\n",
    "    public virtual void CalculateTotal()\n",
    "    {\n",
    "        TotalAmount = 0;\n",
    "        foreach (var item in LineItems)\n",
    "        {\n",
    "            TotalAmount += item.TotalPrice;\n",
    "        }\n",
    "        Console.WriteLine($\"Общая сумма фактуры: {TotalAmount} руб.\");\n",
    "    }\n",
    "\n",
    "    // добавление позиции в фактуру\n",
    "    public virtual void AddLine(LineItem lineItem)\n",
    "    {\n",
    "        LineItems.Add(lineItem);\n",
    "        Console.WriteLine($\"Добавлена позиция: {lineItem.Description}\");\n",
    "        CalculateTotal();\n",
    "    }\n",
    "\n",
    "    // удаление позиции из фактуры\n",
    "    public virtual void RemoveLine(LineItem lineItem)\n",
    "    {\n",
    "        LineItems.Remove(lineItem);\n",
    "        Console.WriteLine($\"Удалена позиция: {lineItem.Description}\");\n",
    "        CalculateTotal();\n",
    "    }\n",
    "\n",
    "    // взаимодействие: копирование позиций из другой фактуры\n",
    "    public void CopyLinesFrom(Invoice other)\n",
    "    {\n",
    "        foreach (var item in other.LineItems)\n",
    "        {\n",
    "            AddLine(new LineItem(item.Description, item.Quantity, item.UnitPrice));\n",
    "        }\n",
    "        Console.WriteLine($\"Позиции скопированы из фактуры {other.InvoiceNumber}\");\n",
    "    }\n",
    "}\n",
    "\n",
    "// товарная фактура\n",
    "public class GoodsInvoice : Invoice\n",
    "{\n",
    "    public DateTime SupplyDate { get; set; }\n",
    "\n",
    "    public GoodsInvoice(string invoiceNumber, DateTime issueDate, DateTime supplyDate)\n",
    "        : base(invoiceNumber, issueDate)\n",
    "    {\n",
    "        SupplyDate = supplyDate;\n",
    "    }\n",
    "\n",
    "    public override void AddLine(LineItem lineItem)\n",
    "    {\n",
    "        LineItems.Add(lineItem);\n",
    "        Console.WriteLine($\"Добавлен товар: {lineItem.Description}\");\n",
    "        Console.WriteLine($\"Дата поставки товара: {SupplyDate}\");\n",
    "        CalculateTotal();\n",
    "    }\n",
    "}\n",
    "\n",
    "// услуговая фактура\n",
    "public class ServiceInvoice : Invoice\n",
    "{\n",
    "    public DateTime ServiceDate { get; set; }\n",
    "\n",
    "    public ServiceInvoice(string invoiceNumber, DateTime issueDate, DateTime serviceDate)\n",
    "        : base(invoiceNumber, issueDate)\n",
    "    {\n",
    "        ServiceDate = serviceDate;\n",
    "    }\n",
    "\n",
    "    // удаление позиции с причиной\n",
    "    public void RemoveLine(LineItem lineItem, string reason)\n",
    "    {\n",
    "        LineItems.Remove(lineItem);\n",
    "        Console.WriteLine($\"Услуга аннулирована: {lineItem.Description}\");\n",
    "        Console.WriteLine($\"Причина: {reason}\");\n",
    "        CalculateTotal();\n",
    "    }\n",
    "}\n",
    "\n",
    "// пример использования \n",
    "Console.WriteLine(\"Товарная фактура\");\n",
    "var goods = new GoodsInvoice(\"ТВ-001\", DateTime.Now, DateTime.Now.AddDays(7));\n",
    "goods.AddLine(new LineItem(\"Ноутбук\", 1, 50000));\n",
    "\n",
    "Console.WriteLine(\"\\nУслуговая фактура\");\n",
    "var service = new ServiceInvoice(\"УС-001\", DateTime.Now, DateTime.Now.AddDays(2));\n",
    "var consult = new LineItem(\"Консультация\", 2, 2000);\n",
    "service.AddLine(consult);\n",
    "service.RemoveLine(consult, \"Клиент отменил услугу\");"
   ]
  }
 ],
 "metadata": {
  "kernelspec": {
   "display_name": ".NET (C#)",
   "language": "C#",
   "name": ".net-csharp"
  },
  "polyglot_notebook": {
   "kernelInfo": {
    "defaultKernelName": "csharp",
    "items": [
     {
      "aliases": [],
      "languageName": "csharp",
      "name": "csharp"
     }
    ]
   }
  }
 },
 "nbformat": 4,
 "nbformat_minor": 2
}
